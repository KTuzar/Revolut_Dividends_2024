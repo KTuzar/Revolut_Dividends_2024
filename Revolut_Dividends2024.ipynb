{
 "cells": [
  {
   "cell_type": "markdown",
   "metadata": {},
   "source": [
    "#### Revolut Dividends 2024\n",
    "This Jupyter notebook is intended to help analyze data from an imported revolut statement in csv format regarding dividends collected in 2024.\n",
    "<br>This is my practice project to learn to work with and analyze data with python and to produce visualizations.\n",
    "\n",
    "##### What this Jupyter notebook does:\n",
    "- clean up the data in the imported csv file so they can be analyzed\n",
    "- display data on dividends collected in USD in 2024\n",
    "- display data on dividends collected in EUR in 2024\n",
    "- provide a summary and key insights for year 2024\n",
    "- show a visualization of dividends collected per ticker regardless of currency\n",
    "\n",
    "##### Notes:\n",
    "- this notebook is designed to process data from your Revolut statement. This statement can be generated from your Revolut Invest section (in app: Invest > More > Documents > Brokerage account > Account statement > select Excel). Once you have the xlsx, you just need to save it as a csv.\n",
    "- this notebook provides insights for dividends collected in EUR or USD\n",
    "- colors for matplotlib https://matplotlib.org/3.3.0/gallery/color/named_colors.html\n",
    "- colormaps for matplotlib https://matplotlib.org/stable/users/explain/colors/colormaps.html\n",
    "\n",
    "##### Space for improvement:\n",
    "- add a column with 'year' to store the year extracted from 'date'\n",
    "- additional visualizations\n",
    "- comparison with other years\n",
    "- could optimize for currencies other than EUR and USD\n",
    "- could fetch live exchange rates for conversions between EUR and USD\n",
    "\n"
   ]
  },
  {
   "cell_type": "markdown",
   "metadata": {},
   "source": [
    "#### Importing the data and cleaning of data"
   ]
  },
  {
   "cell_type": "code",
   "execution_count": null,
   "metadata": {},
   "outputs": [],
   "source": [
    "# Import libraries and load data from csv file - \n",
    "import pandas as pd\n",
    "import matplotlib.pyplot as plt\n",
    "import matplotlib.cm as cm\n",
    "\n",
    "data = pd.read_csv(\"randomized_statement.csv\")\n",
    "\n",
    "# CLEANING UP\n",
    "\n",
    "# 1. Remove spaces from column names and make them lowercase\n",
    "data.columns = data.columns.str.replace(\" \", \"_\").str.lower()\n",
    "\n",
    "# 2. Change 'â‚¬' to '€' [optional]\n",
    "# There seems to be an issue with encoding in the statement files, but this step is not necessary because the currency symbols are removed in step 4\n",
    "data = data.replace(\"â‚¬\", \"€\")\n",
    "\n",
    "# 3. Create a new dataframe \"dividend\" to work with, containing only dividend rows and dropping unnecessary columns\n",
    "dividend = data[data[\"type\"] == \"DIVIDEND\"].drop(columns=[\"quantity\", \"price_per_share\", \"fx_rate\"])\n",
    "\n",
    "# 4. Remove non-numeric symbols (like '$' or '€') from the 'total_amount' column so we can work with the numbers\n",
    "# regular expression pattern r\"[^\\d.]\" matches any character that is not a digit (0-9) or a period (.)\n",
    "# this removes any non-numeric symbols, such as '$' or '€', or thousands separators ','\n",
    "dividend[\"total_amount\"] = dividend[\"total_amount\"].replace(r\"[^\\d.]\", \"\", regex=True).astype(float)\n",
    "\n",
    "# 5. Format the 'date' column to 'YYYY-MM-DD' to exclude the time component\n",
    "dividend['date'] = pd.to_datetime(dividend['date']).dt.strftime('%Y-%m-%d') # format 'date' column to exclude time converting it to a string\n",
    "dividend['date'] = pd.to_datetime(dividend['date']) # Convert back to datetime for .dt access (avoid getting AttributeError later)\n",
    "\n",
    "# Have a look at the dataframe we will be working with\n",
    "dividend.head()"
   ]
  },
  {
   "cell_type": "markdown",
   "metadata": {},
   "source": [
    "#### Overall dividend data from the imported statement not limited by year, list of currencies"
   ]
  },
  {
   "cell_type": "code",
   "execution_count": null,
   "metadata": {},
   "outputs": [],
   "source": [
    "# quick overview of overall dividends collected per ticker, not limited by year\n",
    "overview = dividend.groupby(['ticker', 'currency']).agg(dividends_collected=('total_amount', 'sum'))\n",
    "print(overview)\n",
    "\n",
    "print(f'\\nList of currencies in this statement: {', '.join(dividend[\"currency\"].unique())}')\n",
    "\n",
    "# add a visualization showcasing all unique tickers and overall dividends collected\n",
    "print(f'\\nVisualization: Overall dividends collected by ticker regardless of year or currency')\n",
    "dividends_by_ticker = dividend.groupby('ticker')['total_amount'].sum()\n",
    "\n",
    "plt.figure(figsize=(5,3)) # size of chart\n",
    "dividends_by_ticker.sort_values(ascending=False).plot(kind='bar', color='dodgerblue')\n",
    "plt.title(\"Overall Dividends Collected by Ticker\")\n",
    "plt.xlabel(\"Ticker\")\n",
    "plt.ylabel(\"Total Dividends (EUR/USD)\")\n",
    "plt.xticks(rotation=45) # improve readability\n",
    "plt.show()"
   ]
  },
  {
   "cell_type": "markdown",
   "metadata": {},
   "source": [
    "#### Data for year 2024 in USD"
   ]
  },
  {
   "cell_type": "code",
   "execution_count": null,
   "metadata": {},
   "outputs": [],
   "source": [
    "# Analyze dividends collected in USD for the year 2024\n",
    "\n",
    "# Filter the 'dividend' DataFrame to include only transactions in USD and the year 2024\n",
    "dividend2024_usd = dividend[(dividend[\"currency\"] == \"USD\") & (dividend['date'].dt.year == 2024)]\n",
    "\n",
    "# Group the filtered data by 'ticker' and 'currency' and calculate the sum of 'total_amount'\n",
    "# This aggregates the dividend amounts for each unique ticker in USD for 2024.\n",
    "dividend2024_usd = dividend2024_usd.groupby(['ticker', 'currency']).agg(\n",
    "    dividends_collected=('total_amount', 'sum')\n",
    "    ).reset_index()\n",
    "\n",
    "# Calculate the total sum of dividends collected in USD for 2024\n",
    "total_sum_usd = dividend2024_usd[\"dividends_collected\"].sum()\n",
    "\n",
    "# Create a DataFrame for the 'Total' row to display the grand total\n",
    "total_row_usd = pd.DataFrame([{\"ticker\": \"Total\", \"currency\": \"USD\", \"dividends_collected\": total_sum_usd}])\n",
    "\n",
    "# Append the 'Total' row to the main DataFrame\n",
    "# ignore_index=True to have a clean, new index\n",
    "dividend2024_usd = pd.concat([dividend2024_usd, total_row_usd], ignore_index=True)\n",
    "\n",
    "# Display the resulting DataFrame showing the total dividends collected per ticker in USD for 2024,\n",
    "# with an added row for the overall total.\n",
    "print(dividend2024_usd)\n",
    "\n",
    "# add a visualization showcasing all unique tickers and dividends collected in USD in 2024\n",
    "\n",
    "print(f'\\nVisualization: Dividends collected by ticker in year 2024 in USD')\n",
    "dividends_by_ticker = dividend[(dividend['date'].dt.year == 2024) & (dividend['currency'] == 'USD')].groupby('ticker')['total_amount'].sum()\n",
    "\n",
    "plt.figure(figsize=(5,3))\n",
    "dividends_by_ticker.sort_values(ascending=False).plot(kind='bar', color='indianred')\n",
    "plt.title(\"Dividends by Ticker in 2024\")\n",
    "plt.xlabel(\"Ticker\")\n",
    "plt.ylabel(\"Total Dividends (USD)\")\n",
    "plt.xticks(rotation=45)\n",
    "plt.show()"
   ]
  },
  {
   "cell_type": "markdown",
   "metadata": {},
   "source": [
    "#### Data for year 2024 in EUR"
   ]
  },
  {
   "cell_type": "code",
   "execution_count": null,
   "metadata": {},
   "outputs": [],
   "source": [
    "dividend2024_eur = dividend[(dividend[\"currency\"] == \"EUR\") & (dividend['date'].dt.year == 2024)]\n",
    "\n",
    "dividend2024_eur = dividend2024_eur.groupby(['ticker', 'currency']).agg(\n",
    "    dividends_collected=('total_amount', 'sum')\n",
    "    ).reset_index()\n",
    "\n",
    "total_sum_eur = dividend2024_eur[\"dividends_collected\"].sum()\n",
    "total_row_eur = pd.DataFrame([{\"ticker\": \"Total\", \"currency\": \"EUR\", \"dividends_collected\": total_sum_eur}])\n",
    "\n",
    "dividend2024_eur = pd.concat([dividend2024_eur, total_row_eur], ignore_index=True)\n",
    "\n",
    "print(dividend2024_eur)\n",
    "\n",
    "# add a visualization showcasing all unique tickers and dividends collected in EUR in 2024\n",
    "print(f'\\nVisualization: Dividends collected by ticker in year 2024 in EUR')\n",
    "\n",
    "dividends_by_ticker = dividend[(dividend['date'].dt.year == 2024) & (dividend['currency'] == 'EUR')].groupby('ticker')['total_amount'].sum()\n",
    "\n",
    "plt.figure(figsize=(5,3))\n",
    "dividends_by_ticker.sort_values(ascending=False).plot(kind='bar', color='navy')\n",
    "plt.title(\"Dividends by Ticker in 2024\")\n",
    "plt.xlabel(\"Ticker\")\n",
    "plt.ylabel(\"Total Dividends (EUR)\")\n",
    "plt.xticks(rotation=45)\n",
    "plt.show()"
   ]
  },
  {
   "cell_type": "markdown",
   "metadata": {},
   "source": [
    "#### Summary and key insights for year 2024"
   ]
  },
  {
   "cell_type": "code",
   "execution_count": null,
   "metadata": {},
   "outputs": [],
   "source": [
    "# A list of unique tickers which are present in the dividend statement for year 2024\n",
    "unique_tickers_2024 = dividend.loc[dividend['date'].dt.year == 2024, 'ticker'].unique()\n",
    "# The ticker which had the highest sum paid out in 2024\n",
    "top_ticker_2024 = dividend[dividend['date'].dt.year == 2024].groupby('ticker')['total_amount'].sum().idxmax()\n",
    "\n",
    "print(f'Here are the key insights:')\n",
    "print(f'In 2024, dividends were paid by a total of {len(unique_tickers_2024)} unique instruments: {\", \".join(unique_tickers_2024)}.')\n",
    "print(f'The highest dividend paying instrument in your portfolio in 2024 was {top_ticker_2024}.')\n",
    "print(f'Dividends for year 2024 totalled {total_sum_eur:.2f} EUR and {total_sum_usd:.2f} USD.')\n",
    "print(f'This sums up to a grand total of {total_sum_eur + (total_sum_usd * 0.93):.2f} EUR (USD converted to EUR using the provided rate) or {total_sum_usd + (total_sum_eur * 1.08):.2f} USD (EUR converted to USD using the provided rate).')\n",
    "print(f'FX Rate used: 1 EUR = 1.08 USD, 1 USD = 0.93 EUR (Updated on 2025/03/26).')\n",
    "\n",
    "# add a visualization showcasing dividends collected by ticker in 2024\n",
    "print(f'\\nVisualization: A bar chart showing all dividends collected by ticker in 2024 regardless of currency')\n",
    "dividends_by_ticker = dividend[dividend['date'].dt.year == 2024].groupby('ticker')['total_amount'].sum()\n",
    "\n",
    "plt.figure(figsize=(5,3))\n",
    "dividends_by_ticker.sort_values(ascending=False).plot(kind='bar', color='skyblue')\n",
    "plt.title(\"Dividends Collected by Ticker in 2024\")\n",
    "plt.xlabel(\"Ticker\")\n",
    "plt.ylabel(\"Total Dividends (EUR/USD)\")\n",
    "plt.xticks(rotation=45)\n",
    "plt.show()\n",
    "\n",
    "\n",
    "# add a visualization showcasing the contribution of each ticker to overall dividends in 2024\n",
    "print(f'Visualization: A pie chart showing the proportion of overall dividends contributed by each ticker in 2024 regardless of currency')\n",
    "dividends_by_ticker = dividend[dividend['date'].dt.year == 2024].groupby('ticker')['total_amount'].sum()\n",
    "\n",
    "# Determine the number of slices aka unique tickers\n",
    "num_slices = len(dividends_by_ticker)\n",
    "# or:\n",
    "# num_slices = len(unique_tickers_2024)\n",
    "\n",
    "# Choose colors to appear in the pie chart\n",
    "colors = ['lightcoral', 'lightskyblue', 'cornsilk', 'lightgreen', 'pink', 'azure', 'peachpuff', 'plum', 'rosybrown', 'thistle'] \n",
    "\n",
    "plt.figure(figsize=(5, 5))\n",
    "plt.pie(dividends_by_ticker.values, labels=dividends_by_ticker.index, autopct='%1.1f%%', startangle=140, colors=colors)\n",
    "plt.title(\"Proportion of Dividends Collected by Ticker in 2024\")\n",
    "plt.axis('equal')\n",
    "plt.show()"
   ]
  },
  {
   "cell_type": "code",
   "execution_count": null,
   "metadata": {},
   "outputs": [],
   "source": []
  }
 ],
 "metadata": {
  "kernelspec": {
   "display_name": "Python 3",
   "language": "python",
   "name": "python3"
  },
  "language_info": {
   "codemirror_mode": {
    "name": "ipython",
    "version": 3
   },
   "file_extension": ".py",
   "mimetype": "text/x-python",
   "name": "python",
   "nbconvert_exporter": "python",
   "pygments_lexer": "ipython3",
   "version": "3.12.4"
  }
 },
 "nbformat": 4,
 "nbformat_minor": 2
}
